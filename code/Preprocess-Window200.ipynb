{
 "cells": [
  {
   "cell_type": "code",
   "execution_count": null,
   "id": "72ced029",
   "metadata": {},
   "outputs": [],
   "source": [
    "import pandas as pd\n",
    "import numpy as np\n",
    "import matplotlib.pyplot as plt\n",
    "import seaborn as sns\n",
    "import statistics\n",
    "import math"
   ]
  },
  {
   "cell_type": "code",
   "execution_count": null,
   "id": "0dc61a21",
   "metadata": {},
   "outputs": [],
   "source": [
    "pwd"
   ]
  },
  {
   "cell_type": "markdown",
   "id": "2de8b0e2",
   "metadata": {},
   "source": [
    "# Global"
   ]
  },
  {
   "cell_type": "code",
   "execution_count": null,
   "id": "3df56549",
   "metadata": {},
   "outputs": [],
   "source": [
    "raw = pd.read_csv('../raw-data/hetmat_human200_179sp.txt', sep = '\\t')\n",
    "cols = []\n",
    "for i in range(len(raw)):\n",
    "    cols.append(str(raw.loc[i][0]) + ' ' + str(raw.loc[i][1]) + ' ' + str(raw.loc[i][2]))"
   ]
  },
  {
   "cell_type": "code",
   "execution_count": null,
   "id": "edb7de1d",
   "metadata": {},
   "outputs": [],
   "source": [
    "iucn = pd.read_csv(\"raw-data/zoonomia_dataset_17nov2021_streamlined.csv\", index_col = 0)"
   ]
  },
  {
   "cell_type": "code",
   "execution_count": null,
   "id": "6070a40b",
   "metadata": {},
   "outputs": [],
   "source": [
    "iucn"
   ]
  },
  {
   "cell_type": "code",
   "execution_count": null,
   "id": "cbfcaade",
   "metadata": {},
   "outputs": [],
   "source": [
    "iucn = iucn[['IUCN']]"
   ]
  },
  {
   "cell_type": "code",
   "execution_count": null,
   "id": "97d13e1e",
   "metadata": {},
   "outputs": [],
   "source": [
    "iucn"
   ]
  },
  {
   "cell_type": "code",
   "execution_count": null,
   "id": "1b7cd721",
   "metadata": {},
   "outputs": [],
   "source": [
    "o = pd.read_csv('raw-data/Coding_Vars_and_phyloP_240sp.txt', sep='\\t', index_col=0)\n",
    "o = o[['coding_vars']]"
   ]
  },
  {
   "cell_type": "code",
   "execution_count": null,
   "id": "cdcf8c7d",
   "metadata": {},
   "outputs": [],
   "source": [
    "o"
   ]
  },
  {
   "cell_type": "markdown",
   "id": "9484c377",
   "metadata": {},
   "source": [
    "# Functions"
   ]
  },
  {
   "cell_type": "code",
   "execution_count": null,
   "id": "ae31481a",
   "metadata": {},
   "outputs": [],
   "source": [
    "'''\n",
    "\n",
    "Given a raw dataset and a name, accomplish the following\n",
    "\n",
    "(1) transpose\n",
    "(2) fix column names\n",
    "(3) plot + remove NaNs species\n",
    "(4) fix row names\n",
    "\n",
    "'''\n",
    "\n",
    "def read(dataset, name):\n",
    "    dataset = dataset.T\n",
    "    try:\n",
    "        dataset.drop(['chr', 'start', 'stop'], axis=0, inplace = True)\n",
    "    except:\n",
    "        pass\n",
    "    dataset.columns = cols\n",
    "    \n",
    "    nanperrow = (dataset.isnull().sum(axis=1).tolist())\n",
    "    indices = [i for i, x in enumerate(nanperrow) if (x > 30000)]\n",
    "    dataset.drop(dataset.index[indices], inplace=True)\n",
    "    \n",
    "    dataset.index = [i.split('.')[0] for i in dataset.index]\n",
    "    \n",
    "    return dataset"
   ]
  },
  {
   "cell_type": "code",
   "execution_count": null,
   "id": "90760e50",
   "metadata": {},
   "outputs": [],
   "source": [
    "'''\n",
    "\n",
    "Given a dataset, normalize with respect to the the total number of coding variants\n",
    "\n",
    "'''\n",
    "\n",
    "def normalize(dataset):\n",
    "    \n",
    "    dataset = dataset.drop(['Capra_hircus'], axis=0)\n",
    "    \n",
    "    tmp = dataset.T\n",
    "    for i in tmp.columns:\n",
    "        tmp[i] /= int(o.loc[i].tolist()[0])\n",
    "        \n",
    "    return dataset"
   ]
  },
  {
   "cell_type": "code",
   "execution_count": null,
   "id": "d719257b",
   "metadata": {},
   "outputs": [],
   "source": [
    "'''\n",
    "\n",
    "Given a list of datasets, merge them into one dataset\n",
    "\n",
    "'''\n",
    "\n",
    "def merge(datasets, common):\n",
    "    \n",
    "    df = pd.concat([dataset.loc[common] for dataset in datasets], axis=1)\n",
    "    return df"
   ]
  },
  {
   "cell_type": "code",
   "execution_count": null,
   "id": "9bc6bcce",
   "metadata": {},
   "outputs": [],
   "source": [
    "'''\n",
    "\n",
    "Given a dataset, add IUCN labels\n",
    "\n",
    "'''\n",
    "\n",
    "def addiucn(dataset):\n",
    "\n",
    "    subset = iucn.loc[dataset.index]\n",
    "                \n",
    "    dataset['iucn'] = subset\n",
    "    \n",
    "    return dataset"
   ]
  },
  {
   "cell_type": "code",
   "execution_count": null,
   "id": "b0df6bb2",
   "metadata": {},
   "outputs": [],
   "source": [
    "'''\n",
    "\n",
    "Given a dataset and a name, segregate the non-DD and DD species into two files\n",
    "\n",
    "'''\n",
    "\n",
    "def split(df, name):\n",
    "    \n",
    "    ndf = df[df['iucn'] != 'DD']\n",
    "    ddf = df[df['iucn'] == 'DD']\n",
    "    \n",
    "    ndf.to_csv('data/' + name + '.csv')\n",
    "    ddf.to_csv('dd-data/' + name + '-dd' + '.csv')"
   ]
  },
  {
   "cell_type": "markdown",
   "id": "500df96a",
   "metadata": {},
   "source": [
    "# Analysis"
   ]
  },
  {
   "cell_type": "code",
   "execution_count": null,
   "id": "2f4221e3",
   "metadata": {},
   "outputs": [],
   "source": [
    "het = pd.read_csv('raw-data/hetmat_human200_207sp.txt', sep = '\\t')\n",
    "roh = pd.read_csv('raw-data/rohmat_human200_207sp.txt', sep = '\\t')\n",
    "snpphylop = pd.read_csv('raw-data/snpphylopmat_human50KB_240sp.txt', sep = '\\t')\n",
    "miscons = pd.read_csv('raw-data/missense_conserved_human50kb_240sp.txt', sep = '\\t')\n",
    "miscount = pd.read_csv('raw-data/missense_counts_human50kb_240sp.txt', sep = '\\t')"
   ]
  },
  {
   "cell_type": "code",
   "execution_count": null,
   "id": "812c313e",
   "metadata": {},
   "outputs": [],
   "source": [
    "het = read(het, 'het')\n",
    "roh = read(roh, 'roh')\n",
    "snpphylop = read(snpphylop, 'snpphylop')\n",
    "miscons = read(miscons, 'miscons')\n",
    "miscount = read(miscount, 'miscount')"
   ]
  },
  {
   "cell_type": "code",
   "execution_count": null,
   "id": "edb12ba4",
   "metadata": {},
   "outputs": [],
   "source": [
    "common171 = snpphylop.index.tolist()"
   ]
  },
  {
   "cell_type": "code",
   "execution_count": null,
   "id": "a6706bd6",
   "metadata": {},
   "outputs": [],
   "source": [
    "len(common171)"
   ]
  },
  {
   "cell_type": "code",
   "execution_count": null,
   "id": "c4078512",
   "metadata": {},
   "outputs": [],
   "source": [
    "het = het.loc[common171]\n",
    "roh = roh.loc[common171]\n",
    "snpphylop = snpphylop.loc[common171]\n",
    "miscons = miscons.loc[common171]\n",
    "miscount = miscount.loc[common171]"
   ]
  },
  {
   "cell_type": "code",
   "execution_count": null,
   "id": "5bee88ba",
   "metadata": {},
   "outputs": [],
   "source": [
    "miscons = normalize(miscons)\n",
    "miscount = normalize(miscount)"
   ]
  },
  {
   "cell_type": "code",
   "execution_count": null,
   "id": "6b38281c",
   "metadata": {},
   "outputs": [],
   "source": [
    "common170 = miscons.index.tolist()"
   ]
  },
  {
   "cell_type": "code",
   "execution_count": null,
   "id": "641b92e0",
   "metadata": {},
   "outputs": [],
   "source": [
    "len(common170)"
   ]
  },
  {
   "cell_type": "code",
   "execution_count": null,
   "id": "0f5ece93",
   "metadata": {},
   "outputs": [],
   "source": [
    "three = merge([het, roh, snpphylop], common171)\n",
    "five = merge([het, roh, snpphylop, miscons, miscount], common170)"
   ]
  },
  {
   "cell_type": "code",
   "execution_count": null,
   "id": "75296d9f",
   "metadata": {},
   "outputs": [],
   "source": [
    "five"
   ]
  },
  {
   "cell_type": "code",
   "execution_count": null,
   "id": "c5672aff",
   "metadata": {},
   "outputs": [],
   "source": [
    "cols = three.columns.tolist()\n",
    "for i in range(0, 57509):\n",
    "    cols[i] = cols[i] + '-het'\n",
    "for i in range(57509, 57509*2):\n",
    "    cols[i] = cols[i] + '-roh'\n",
    "for i in range(57509*2, 57509*3):\n",
    "    cols[i] = cols[i] + '-snpphylop'\n",
    "three.columns = cols"
   ]
  },
  {
   "cell_type": "code",
   "execution_count": null,
   "id": "92f4fddb",
   "metadata": {},
   "outputs": [],
   "source": [
    "cols = five.columns.tolist()\n",
    "for i in range(0, 57509):\n",
    "    cols[i] = cols[i] + '-het'\n",
    "for i in range(57509, 57509*2):\n",
    "    cols[i] = cols[i] + '-roh'\n",
    "for i in range(57509*2, 57509*3):\n",
    "    cols[i] = cols[i] + '-snpphylop'\n",
    "for i in range(57509*3, 57509*4):\n",
    "    cols[i] = cols[i] + '-miscons'\n",
    "for i in range(57509*4, 57509*5):\n",
    "    cols[i] = cols[i] + '-miscount'\n",
    "five.columns = cols"
   ]
  },
  {
   "cell_type": "code",
   "execution_count": null,
   "id": "43b79eae",
   "metadata": {},
   "outputs": [],
   "source": [
    "het = addiucn(het)\n",
    "roh = addiucn(roh)\n",
    "snpphylop = addiucn(snpphylop)\n",
    "miscons = addiucn(miscons)\n",
    "miscount = addiucn(miscount)\n",
    "three = addiucn(three)\n",
    "five = addiucn(five)"
   ]
  },
  {
   "cell_type": "code",
   "execution_count": null,
   "id": "4b910351",
   "metadata": {},
   "outputs": [],
   "source": [
    "df = pd.read_csv('data/full-summary.csv', index_col = [0])"
   ]
  },
  {
   "cell_type": "code",
   "execution_count": null,
   "id": "9f9e6ca0",
   "metadata": {},
   "outputs": [],
   "source": [
    "df"
   ]
  },
  {
   "cell_type": "code",
   "execution_count": null,
   "id": "4180e5b2",
   "metadata": {},
   "outputs": [],
   "source": [
    "df = df.drop(['iucn'], axis=1)"
   ]
  },
  {
   "cell_type": "code",
   "execution_count": null,
   "id": "34ff50cd",
   "metadata": {},
   "outputs": [],
   "source": [
    "df"
   ]
  },
  {
   "cell_type": "code",
   "execution_count": null,
   "id": "57bb168a",
   "metadata": {},
   "outputs": [],
   "source": [
    "het1 = merge([het, df], common171)\n",
    "roh1 = merge([roh, df], common171)\n",
    "snpphylop1 = merge([snpphylop, df], common171)\n",
    "miscons1 = merge([miscons, df], common170)\n",
    "miscount1 = merge([miscount, df], common170)\n",
    "three1 = merge([three, df], common171)\n",
    "five1 = merge([five, df], common170)"
   ]
  },
  {
   "cell_type": "code",
   "execution_count": null,
   "id": "81e2bdfa",
   "metadata": {},
   "outputs": [],
   "source": []
  },
  {
   "cell_type": "code",
   "execution_count": null,
   "id": "bf958b37",
   "metadata": {},
   "outputs": [],
   "source": [
    "split(het, 'het-200')\n",
    "split(roh, 'roh-200')\n",
    "split(snpphylop, 'snpphylop-200')\n",
    "split(miscons, 'miscons-200')\n",
    "split(miscount, 'miscount-200')\n",
    "split(three, 'three-200')\n",
    "split(five, 'five-200')"
   ]
  },
  {
   "cell_type": "code",
   "execution_count": null,
   "id": "4b01334c",
   "metadata": {},
   "outputs": [],
   "source": [
    "split(het1, 'het-summary-200')\n",
    "split(roh1, 'roh-summary-200')\n",
    "split(snpphylop1, 'snpphylop-summary-200')\n",
    "split(miscons1, 'miscons-summary-200')\n",
    "split(miscount1, 'miscount-summary-200')\n",
    "split(three1, 'three-summary-200')\n",
    "split(five1, 'five-summary-200')"
   ]
  },
  {
   "cell_type": "code",
   "execution_count": null,
   "id": "bed00dfe",
   "metadata": {},
   "outputs": [],
   "source": []
  },
  {
   "cell_type": "code",
   "execution_count": null,
   "id": "3e05d4b5",
   "metadata": {},
   "outputs": [],
   "source": []
  },
  {
   "cell_type": "code",
   "execution_count": null,
   "id": "d7b90e0d",
   "metadata": {},
   "outputs": [],
   "source": []
  },
  {
   "cell_type": "code",
   "execution_count": null,
   "id": "74bdd86b",
   "metadata": {},
   "outputs": [],
   "source": []
  },
  {
   "cell_type": "code",
   "execution_count": null,
   "id": "9fad19f7",
   "metadata": {},
   "outputs": [],
   "source": [
    "raw.columns.tolist()"
   ]
  },
  {
   "cell_type": "code",
   "execution_count": null,
   "id": "77380664",
   "metadata": {},
   "outputs": [],
   "source": [
    "len(raw.columns)"
   ]
  },
  {
   "cell_type": "code",
   "execution_count": null,
   "id": "5383f345",
   "metadata": {},
   "outputs": [],
   "source": [
    "tmp = pd.read_csv('data/miscons-summary.csv')"
   ]
  },
  {
   "cell_type": "code",
   "execution_count": null,
   "id": "1fda0b42",
   "metadata": {},
   "outputs": [],
   "source": [
    "tmp"
   ]
  },
  {
   "cell_type": "code",
   "execution_count": null,
   "id": "768ea0f3",
   "metadata": {},
   "outputs": [],
   "source": [
    "tmp.index = tmp['Unnamed: 0']"
   ]
  },
  {
   "cell_type": "code",
   "execution_count": null,
   "id": "6758a67a",
   "metadata": {},
   "outputs": [],
   "source": [
    "set(tmp['iucn'])"
   ]
  }
 ],
 "metadata": {
  "kernelspec": {
   "display_name": "Python 3 (ipykernel)",
   "language": "python",
   "name": "python3"
  },
  "language_info": {
   "codemirror_mode": {
    "name": "ipython",
    "version": 3
   },
   "file_extension": ".py",
   "mimetype": "text/x-python",
   "name": "python",
   "nbconvert_exporter": "python",
   "pygments_lexer": "ipython3",
   "version": "3.7.10"
  }
 },
 "nbformat": 4,
 "nbformat_minor": 5
}
